{
 "cells": [
  {
   "cell_type": "markdown",
   "metadata": {},
   "source": [
    "# SPL Open Data Usage\n",
    "\n",
    "Welcome to the MLSE Sport Performance Lab (SPL) Open data repository! See below for a quick explanation on how best to load into this data into a notebook and do some basic visualization."
   ]
  },
  {
   "cell_type": "markdown",
   "metadata": {},
   "source": [
    "### File structure\n",
    "\n",
    "Assuming that you have cloned the repository, the naming convention of the files is as follows. The data in this repository is structured in the following tree:\n",
    "\n",
    "```\n",
    "[sport]/\n",
    "├─ [action_type]/\n",
    "│  ├─ participant_information.json\n",
    "│  ├─ [participant_id]/\n",
    "│  │  ├─ trial_data/\n",
    "|  |     ├─ [trial_id].json\n",
    "```\n",
    "\n",
    "where, trial data is unique to each individual participant and anonymized, demographic information relating to all participants is referenced in the `participant_information.json` file.\n",
    "\n",
    "In this notebook, we will investigate how to load and work with the basketball free throw data from participant ```P0001```."
   ]
  },
  {
   "cell_type": "markdown",
   "metadata": {},
   "source": [
    "### Import Packages"
   ]
  },
  {
   "cell_type": "code",
   "execution_count": null,
   "metadata": {},
   "outputs": [],
   "source": [
    "import json\n",
    "import numpy as np\n",
    "import matplotlib.pyplot as plt\n",
    "import pandas as pd\n",
    "from animate import animate_trial"
   ]
  },
  {
   "cell_type": "markdown",
   "metadata": {},
   "source": [
    "### Free throw data \n",
    "\n",
    "The free throws are divided into \"trials\" which each contain a single free throw. These were captured using SPL's internal motion capture setup, and are provided at a frame rate of 30fps. They contain 25 body-pose keypoints corresponding to the participant, as well as a limited amount of ball data, from the initial dribbles to shortly after release. To open a particular free throw trial, we can use the `json` library in python:"
   ]
  },
  {
   "cell_type": "code",
   "execution_count": null,
   "metadata": {},
   "outputs": [],
   "source": [
    "for trial_number in range(1,126):\n",
    "\n",
    "    trial_id = str(trial_number).zfill(4)\n",
    "\n",
    "    with open(f'./data/P0001/BB_FT_P0001_T{trial_id}.json') as json_file:\n",
    "        free_throw_data = json.load(json_file)\n",
    "        break"
   ]
  },
  {
   "cell_type": "markdown",
   "metadata": {},
   "source": [
    "We can then print the results of ```free_throw_data``` to see its contents:"
   ]
  },
  {
   "cell_type": "code",
   "execution_count": null,
   "metadata": {},
   "outputs": [],
   "source": [
    "free_throw_data"
   ]
  },
  {
   "cell_type": "markdown",
   "metadata": {},
   "source": [
    "The `json` contains shot metadata and a list of dictionaries, where each dictionary of the list corresponds to a single frame of data. The keys of the dictionary are as follows:\n",
    "1. `frame`: The frame number, starting from 0.\n",
    "2. `time`: The time in milliseconds, since the beginning of the trial. Since the frame rate is 30fps, the difference between subsequent frames' times will be 33 or 34 milliseconds (due to rounding).\n",
    "3. `landing_x`: Landing position x coordinate on hoop plane.\n",
    "4. `landing_y`: Landing position y coordinate on hoop plane.\n",
    "5. `entry_angle`: Angle at which ball breaks (enters) hoop plane.\n",
    "6. `tracking`: A dictionary that contains the following `xyz` data corresponding to the frame:\n",
    "   1. `ball`: The `x`, `y`, and `z` coordinates of the ball center. \n",
    "   2. `player`: A dictionary containing `x`, `y`, and `z` coordinates for all of the person's keypoints. Each key in this dictionary corresponds to a specific keypoint.  "
   ]
  },
  {
   "cell_type": "markdown",
   "metadata": {},
   "source": [
    "### Animating A Free Throw\n",
    "\n",
    "To visualize what this data look like, we can use the animate_trial() function in animate.py. This creates a 3D animation of the free throw data provided with fully customizable views and arguments."
   ]
  },
  {
   "cell_type": "code",
   "execution_count": null,
   "metadata": {},
   "outputs": [],
   "source": [
    "animate_trial(f'./data/P0001/BB_FT_P0001_T0001.json', azim=290, player_color='green')"
   ]
  },
  {
   "cell_type": "markdown",
   "metadata": {},
   "source": [
    "Let's start looking at all 125 trials now instead of just focusing on one, what are some research questions we can ask using this data?\n",
    "\n",
    "### Plotting Ball Landing Positions\n",
    "\n",
    "One of the neat things we can do with our data is plot the ball landing positions for each shot. Let's make some histograms to show the distributions of these landing positions."
   ]
  },
  {
   "cell_type": "code",
   "execution_count": null,
   "metadata": {},
   "outputs": [],
   "source": [
    "landing_x = []\n",
    "landing_y = []\n",
    "\n",
    "fig, ax = plt.subplots(ncols=2, figsize=(12,6))\n",
    "\n",
    "for trial_number in range(1,126):\n",
    "\n",
    "    trial_id = str(trial_number).zfill(4)\n",
    "\n",
    "    with open(f'./data/P0001/BB_FT_P0001_T{trial_id}.json') as json_file:\n",
    "        free_throw_data = json.load(json_file)\n",
    "    \n",
    "    landing_x.append(free_throw_data['landing_x'])\n",
    "    landing_y.append(free_throw_data['landing_y'])\n",
    "\n",
    "ax[0].hist(landing_x, bins=15, color='orange', edgecolor='black')\n",
    "ax[0].set_xlabel('Landing X Position (inches)')\n",
    "ax[0].set_ylabel('Frequency')\n",
    "ax[0].set_title('Landing X Position Distribution')\n",
    "\n",
    "ax[1].hist(landing_y, bins=15, color='orange', edgecolor='black')\n",
    "ax[1].set_xlabel('Landing Y Position (inches)')\n",
    "ax[1].set_ylabel('Frequency')\n",
    "ax[1].set_title('Landing Y Position Distribution')"
   ]
  },
  {
   "cell_type": "markdown",
   "metadata": {},
   "source": [
    "We can also plot the ball landing positions on top of where we know the rim of the basketball hoop is. This can help determine if the participant has a bias either to the left/right of the rim or shoots the ball too short/too long:"
   ]
  },
  {
   "cell_type": "code",
   "execution_count": null,
   "metadata": {},
   "outputs": [],
   "source": [
    "fig, ax = plt.subplots(figsize=(6,6))\n",
    "\n",
    "for trial_number in range(1,126):\n",
    "\n",
    "    trial_id = str(trial_number).zfill(4)\n",
    "\n",
    "    with open(f'./data/P0001/BB_FT_P0001_T{trial_id}.json') as json_file:\n",
    "        free_throw_data = json.load(json_file)\n",
    "    \n",
    "    color = 'green' if free_throw_data['result'] == 'made' else 'red'\n",
    "    ax.scatter(free_throw_data['landing_x'], free_throw_data['landing_y'], color=color, alpha=0.8, edgecolors='black', s=30)\n",
    "\n",
    "circle = plt.Circle((0, 9), 9, color='black', fill=False)\n",
    "ax.add_artist(circle)\n",
    "\n",
    "plt.xlim([-15,15])\n",
    "plt.ylim([-5,25])\n",
    "plt.xlabel('Landing X Position (inches)')\n",
    "plt.ylabel('Landing Y Position (inches)')\n",
    "plt.title('Landing Position of Free Throws')\n",
    "\n",
    "plt.tight_layout()\n",
    "plt.show()\n"
   ]
  },
  {
   "cell_type": "markdown",
   "metadata": {},
   "source": [
    "This type of analysis still skews very outcome-based. With the full-body pose data, we have the opportunity to look deeper into more process-based information from the free throw. Let's do that below:"
   ]
  },
  {
   "cell_type": "markdown",
   "metadata": {},
   "source": [
    "### Plotting Keypoints Over Time\n",
    "\n",
    "Given these are free throw trials, we know a lot of the power from the shot comes from the legs. To visualize this, let's see how the vertical velocity of the hip marker changes across the shot."
   ]
  },
  {
   "cell_type": "markdown",
   "metadata": {},
   "source": [
    "First, let's plot the hip vertical position for one shot:"
   ]
  },
  {
   "cell_type": "code",
   "execution_count": null,
   "metadata": {},
   "outputs": [],
   "source": [
    "for trial_number in range(1,126):\n",
    "\n",
    "    trial_number_corrected = str(trial_number).zfill(4)\n",
    "\n",
    "    with open(f'./data/P0001/BB_FT_P0001_T{trial_number_corrected}.json') as json_file:\n",
    "        free_throw_data = json.load(json_file)\n",
    "\n",
    "    hip_z_position = [f['data']['player']['R_HIP'][2] for f in free_throw_data['tracking']]\n",
    "\n",
    "    plt.plot(hip_z_position)\n",
    "    break\n",
    "\n",
    "plt.xlabel('Frame')\n",
    "plt.ylabel('Right Hip Vertical Position (ft)')\n",
    "plt.title('Right Hip Vertical Position Over Shot')\n",
    "\n"
   ]
  },
  {
   "cell_type": "markdown",
   "metadata": {},
   "source": [
    "Now, let's differentiate the position signal to get the vertical velocity of the hip in ft/s:"
   ]
  },
  {
   "cell_type": "code",
   "execution_count": null,
   "metadata": {},
   "outputs": [],
   "source": [
    "for trial_number in range(1,126):\n",
    "\n",
    "    trial_number_corrected = str(trial_number).zfill(4)\n",
    "\n",
    "    with open(f'./data/P0001/BB_FT_P0001_T{trial_number_corrected}.json') as json_file:\n",
    "        free_throw_data = json.load(json_file)\n",
    "\n",
    "    hip_z_velocity = np.gradient([f['data']['player']['R_HIP'][2] for f in free_throw_data['tracking']], 1/30, axis=-1)\n",
    "\n",
    "    plt.plot(hip_z_velocity)\n",
    "    break\n",
    "\n",
    "plt.xlabel('Frame')\n",
    "plt.ylabel('Right Hip Vertical Velocity (ft/s)')\n",
    "plt.title('Right Hip Vertical Velocity Over Shot')\n",
    "\n"
   ]
  },
  {
   "cell_type": "markdown",
   "metadata": {},
   "source": [
    "The velocity graph clearly shows there is a peak, this is the point where the participant is extending up to propel the ball, let's see how this looks for all shots:"
   ]
  },
  {
   "cell_type": "code",
   "execution_count": null,
   "metadata": {},
   "outputs": [],
   "source": [
    "for trial_number in range(1,126):\n",
    "\n",
    "    trial_number_corrected = str(trial_number).zfill(4)\n",
    "\n",
    "    with open(f'./data/P0001/BB_FT_P0001_T{trial_number_corrected}.json') as json_file:\n",
    "        free_throw_data = json.load(json_file)\n",
    "\n",
    "    hip_z_velocity = np.gradient([f['data']['player']['R_HIP'][2] for f in free_throw_data['tracking']], 1/30, axis=-1)\n",
    "\n",
    "    plt.plot(hip_z_velocity)\n",
    "\n",
    "plt.xlabel('Frame')\n",
    "plt.ylabel('Right Hip Vertical Velocity (ft/s)')\n",
    "plt.title('Right Hip Vertical Velocity Over All Shots')\n",
    "\n"
   ]
  },
  {
   "cell_type": "markdown",
   "metadata": {},
   "source": [
    "Great, Let's now calculate the peak hip vertical velocity and see if this value relates to ball landing y-position. My thinking here is that a greater hip velocity will typically result in a farther shot, so there should be a relationship between these values.\n",
    "\n",
    "Let's also color the shots based on wether they were made (green) or missed (red):"
   ]
  },
  {
   "cell_type": "code",
   "execution_count": null,
   "metadata": {},
   "outputs": [],
   "source": [
    "for trial_number in range(1,126):\n",
    "\n",
    "    trial_number_corrected = str(trial_number).zfill(4)\n",
    "\n",
    "    with open(f'./data/P0001/BB_FT_P0001_T{trial_number_corrected}.json') as json_file:\n",
    "        free_throw_data = json.load(json_file)\n",
    "\n",
    "    result = free_throw_data['result']\n",
    "\n",
    "    peak_hip_z_velocity = np.nanmax(np.gradient([f['data']['player']['R_HIP'][2] for f in free_throw_data['tracking']], 1/30, axis=-1))\n",
    "\n",
    "    plt.scatter(peak_hip_z_velocity, free_throw_data['landing_y'], color='green' if result == 'made' else 'red')\n",
    "\n",
    "plt.xlabel('Peak Hip Vertical Velocity (ft/s)')\n",
    "plt.ylabel('Ball Landing Position Y (inches)')\n",
    "\n"
   ]
  },
  {
   "cell_type": "markdown",
   "metadata": {},
   "source": [
    "Interesting! A weak relationship does look like it's there but I've now also found what looks like a cluster of misses that have high peak hip vertical velocity and high ball landing position y values (top right of the figure), my next step here what other biomechanical processes are happening to result in these shots resulting in misses.\n",
    "\n",
    "This is a great example of a basic line of biomechanical research that can be explored using the SPL Open Data basketball freethrow dataset, the rest is up to you!"
   ]
  }
 ],
 "metadata": {
  "kernelspec": {
   "display_name": "Python 3",
   "language": "python",
   "name": "python3"
  },
  "language_info": {
   "codemirror_mode": {
    "name": "ipython",
    "version": 3
   },
   "file_extension": ".py",
   "mimetype": "text/x-python",
   "name": "python",
   "nbconvert_exporter": "python",
   "pygments_lexer": "ipython3",
   "version": "3.11.4"
  },
  "orig_nbformat": 4
 },
 "nbformat": 4,
 "nbformat_minor": 2
}
